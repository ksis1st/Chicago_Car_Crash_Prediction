{
 "cells": [
  {
   "cell_type": "code",
   "execution_count": 1,
   "metadata": {
    "ExecuteTime": {
     "end_time": "2021-01-13T20:28:32.185669Z",
     "start_time": "2021-01-13T20:28:29.985034Z"
    }
   },
   "outputs": [],
   "source": [
    "import pandas as pd\n",
    "import numpy as np\n",
    "import matplotlib.pyplot as plt\n",
    "%matplotlib inline\n",
    "import seaborn as sns\n",
    "from sklearn.model_selection import train_test_split, GridSearchCV, cross_val_score\n",
    "from sklearn.tree import DecisionTreeClassifier\n",
    "from sklearn.ensemble import RandomForestClassifier, AdaBoostClassifier\n",
    "from sklearn.metrics import accuracy_score\n"
   ]
  },
  {
   "cell_type": "code",
   "execution_count": 2,
   "metadata": {
    "ExecuteTime": {
     "end_time": "2021-01-13T20:28:32.265629Z",
     "start_time": "2021-01-13T20:28:32.188673Z"
    }
   },
   "outputs": [
    {
     "data": {
      "text/html": [
       "<div>\n",
       "<style scoped>\n",
       "    .dataframe tbody tr th:only-of-type {\n",
       "        vertical-align: middle;\n",
       "    }\n",
       "\n",
       "    .dataframe tbody tr th {\n",
       "        vertical-align: top;\n",
       "    }\n",
       "\n",
       "    .dataframe thead th {\n",
       "        text-align: right;\n",
       "    }\n",
       "</style>\n",
       "<table border=\"1\" class=\"dataframe\">\n",
       "  <thead>\n",
       "    <tr style=\"text-align: right;\">\n",
       "      <th></th>\n",
       "      <th>id</th>\n",
       "      <th>posted_speed_limit</th>\n",
       "      <th>traffic_control_device</th>\n",
       "      <th>device_condition</th>\n",
       "      <th>weather_condition</th>\n",
       "      <th>lighting_condition</th>\n",
       "      <th>first_crash_type</th>\n",
       "      <th>trafficway_type</th>\n",
       "      <th>alignment</th>\n",
       "      <th>roadway_surface_cond</th>\n",
       "      <th>...</th>\n",
       "      <th>crash_day_of_week</th>\n",
       "      <th>crash_month</th>\n",
       "      <th>latitude</th>\n",
       "      <th>longitude</th>\n",
       "      <th>crash_year</th>\n",
       "      <th>crash_day</th>\n",
       "      <th>year_notified</th>\n",
       "      <th>month_notified</th>\n",
       "      <th>day_notified</th>\n",
       "      <th>hour_notified</th>\n",
       "    </tr>\n",
       "  </thead>\n",
       "  <tbody>\n",
       "    <tr>\n",
       "      <td>0</td>\n",
       "      <td>280396</td>\n",
       "      <td>30</td>\n",
       "      <td>3</td>\n",
       "      <td>2</td>\n",
       "      <td>2</td>\n",
       "      <td>3</td>\n",
       "      <td>9</td>\n",
       "      <td>3</td>\n",
       "      <td>1</td>\n",
       "      <td>2</td>\n",
       "      <td>...</td>\n",
       "      <td>3</td>\n",
       "      <td>11</td>\n",
       "      <td>41.940958</td>\n",
       "      <td>-87.649185</td>\n",
       "      <td>2019</td>\n",
       "      <td>26</td>\n",
       "      <td>2019</td>\n",
       "      <td>11</td>\n",
       "      <td>26</td>\n",
       "      <td>18</td>\n",
       "    </tr>\n",
       "    <tr>\n",
       "      <td>1</td>\n",
       "      <td>406594</td>\n",
       "      <td>30</td>\n",
       "      <td>1</td>\n",
       "      <td>1</td>\n",
       "      <td>2</td>\n",
       "      <td>1</td>\n",
       "      <td>11</td>\n",
       "      <td>5</td>\n",
       "      <td>1</td>\n",
       "      <td>2</td>\n",
       "      <td>...</td>\n",
       "      <td>1</td>\n",
       "      <td>10</td>\n",
       "      <td>41.851498</td>\n",
       "      <td>-87.735394</td>\n",
       "      <td>2018</td>\n",
       "      <td>28</td>\n",
       "      <td>2018</td>\n",
       "      <td>10</td>\n",
       "      <td>28</td>\n",
       "      <td>16</td>\n",
       "    </tr>\n",
       "  </tbody>\n",
       "</table>\n",
       "<p>2 rows × 33 columns</p>\n",
       "</div>"
      ],
      "text/plain": [
       "       id  posted_speed_limit  traffic_control_device  device_condition  \\\n",
       "0  280396                  30                       3                 2   \n",
       "1  406594                  30                       1                 1   \n",
       "\n",
       "   weather_condition  lighting_condition  first_crash_type  trafficway_type  \\\n",
       "0                  2                   3                 9                3   \n",
       "1                  2                   1                11                5   \n",
       "\n",
       "   alignment  roadway_surface_cond  ...  crash_day_of_week  crash_month  \\\n",
       "0          1                     2  ...                  3           11   \n",
       "1          1                     2  ...                  1           10   \n",
       "\n",
       "    latitude  longitude  crash_year  crash_day  year_notified  month_notified  \\\n",
       "0  41.940958 -87.649185        2019         26           2019              11   \n",
       "1  41.851498 -87.735394        2018         28           2018              10   \n",
       "\n",
       "   day_notified  hour_notified  \n",
       "0            26             18  \n",
       "1            28             16  \n",
       "\n",
       "[2 rows x 33 columns]"
      ]
     },
     "execution_count": 2,
     "metadata": {},
     "output_type": "execute_result"
    }
   ],
   "source": [
    "df = pd.read_csv('carcrash_fe')\n",
    "df.head(2) "
   ]
  },
  {
   "cell_type": "code",
   "execution_count": 3,
   "metadata": {
    "ExecuteTime": {
     "end_time": "2021-01-13T20:28:32.421577Z",
     "start_time": "2021-01-13T20:28:32.268625Z"
    }
   },
   "outputs": [
    {
     "data": {
      "text/html": [
       "<div>\n",
       "<style scoped>\n",
       "    .dataframe tbody tr th:only-of-type {\n",
       "        vertical-align: middle;\n",
       "    }\n",
       "\n",
       "    .dataframe tbody tr th {\n",
       "        vertical-align: top;\n",
       "    }\n",
       "\n",
       "    .dataframe thead th {\n",
       "        text-align: right;\n",
       "    }\n",
       "</style>\n",
       "<table border=\"1\" class=\"dataframe\">\n",
       "  <thead>\n",
       "    <tr style=\"text-align: right;\">\n",
       "      <th></th>\n",
       "      <th>id</th>\n",
       "      <th>posted_speed_limit</th>\n",
       "      <th>traffic_control_device</th>\n",
       "      <th>device_condition</th>\n",
       "      <th>weather_condition</th>\n",
       "      <th>lighting_condition</th>\n",
       "      <th>first_crash_type</th>\n",
       "      <th>trafficway_type</th>\n",
       "      <th>alignment</th>\n",
       "      <th>roadway_surface_cond</th>\n",
       "      <th>...</th>\n",
       "      <th>crash_day_of_week</th>\n",
       "      <th>crash_month</th>\n",
       "      <th>latitude</th>\n",
       "      <th>longitude</th>\n",
       "      <th>crash_year</th>\n",
       "      <th>crash_day</th>\n",
       "      <th>year_notified</th>\n",
       "      <th>month_notified</th>\n",
       "      <th>day_notified</th>\n",
       "      <th>hour_notified</th>\n",
       "    </tr>\n",
       "  </thead>\n",
       "  <tbody>\n",
       "    <tr>\n",
       "      <td>count</td>\n",
       "      <td>9622.000000</td>\n",
       "      <td>9622.000000</td>\n",
       "      <td>9622.000000</td>\n",
       "      <td>9622.000000</td>\n",
       "      <td>9622.000000</td>\n",
       "      <td>9622.000000</td>\n",
       "      <td>9622.000000</td>\n",
       "      <td>9622.000000</td>\n",
       "      <td>9622.000000</td>\n",
       "      <td>9622.000000</td>\n",
       "      <td>...</td>\n",
       "      <td>9622.000000</td>\n",
       "      <td>9622.000000</td>\n",
       "      <td>9622.000000</td>\n",
       "      <td>9622.000000</td>\n",
       "      <td>9622.000000</td>\n",
       "      <td>9622.000000</td>\n",
       "      <td>9622.000000</td>\n",
       "      <td>9622.000000</td>\n",
       "      <td>9622.00000</td>\n",
       "      <td>9622.000000</td>\n",
       "    </tr>\n",
       "    <tr>\n",
       "      <td>mean</td>\n",
       "      <td>230150.067554</td>\n",
       "      <td>28.224693</td>\n",
       "      <td>1.678030</td>\n",
       "      <td>1.531802</td>\n",
       "      <td>1.418312</td>\n",
       "      <td>1.619933</td>\n",
       "      <td>3.275930</td>\n",
       "      <td>2.643941</td>\n",
       "      <td>1.044066</td>\n",
       "      <td>1.400021</td>\n",
       "      <td>...</td>\n",
       "      <td>4.135003</td>\n",
       "      <td>6.858553</td>\n",
       "      <td>41.858899</td>\n",
       "      <td>-87.679049</td>\n",
       "      <td>2018.170755</td>\n",
       "      <td>15.727292</td>\n",
       "      <td>2018.172833</td>\n",
       "      <td>6.856059</td>\n",
       "      <td>15.67117</td>\n",
       "      <td>13.861152</td>\n",
       "    </tr>\n",
       "    <tr>\n",
       "      <td>std</td>\n",
       "      <td>132584.219207</td>\n",
       "      <td>6.421920</td>\n",
       "      <td>1.113763</td>\n",
       "      <td>0.755520</td>\n",
       "      <td>1.017429</td>\n",
       "      <td>1.120766</td>\n",
       "      <td>2.355135</td>\n",
       "      <td>2.331175</td>\n",
       "      <td>0.318719</td>\n",
       "      <td>0.844981</td>\n",
       "      <td>...</td>\n",
       "      <td>1.984652</td>\n",
       "      <td>3.396142</td>\n",
       "      <td>0.086589</td>\n",
       "      <td>0.059436</td>\n",
       "      <td>1.320662</td>\n",
       "      <td>8.806247</td>\n",
       "      <td>1.320313</td>\n",
       "      <td>3.396282</td>\n",
       "      <td>8.79592</td>\n",
       "      <td>5.149955</td>\n",
       "    </tr>\n",
       "    <tr>\n",
       "      <td>min</td>\n",
       "      <td>43.000000</td>\n",
       "      <td>0.000000</td>\n",
       "      <td>1.000000</td>\n",
       "      <td>1.000000</td>\n",
       "      <td>1.000000</td>\n",
       "      <td>1.000000</td>\n",
       "      <td>1.000000</td>\n",
       "      <td>1.000000</td>\n",
       "      <td>1.000000</td>\n",
       "      <td>1.000000</td>\n",
       "      <td>...</td>\n",
       "      <td>1.000000</td>\n",
       "      <td>1.000000</td>\n",
       "      <td>41.644694</td>\n",
       "      <td>-87.914197</td>\n",
       "      <td>2015.000000</td>\n",
       "      <td>1.000000</td>\n",
       "      <td>2015.000000</td>\n",
       "      <td>1.000000</td>\n",
       "      <td>1.00000</td>\n",
       "      <td>0.000000</td>\n",
       "    </tr>\n",
       "    <tr>\n",
       "      <td>25%</td>\n",
       "      <td>115964.250000</td>\n",
       "      <td>30.000000</td>\n",
       "      <td>1.000000</td>\n",
       "      <td>1.000000</td>\n",
       "      <td>1.000000</td>\n",
       "      <td>1.000000</td>\n",
       "      <td>2.000000</td>\n",
       "      <td>1.000000</td>\n",
       "      <td>1.000000</td>\n",
       "      <td>1.000000</td>\n",
       "      <td>...</td>\n",
       "      <td>2.000000</td>\n",
       "      <td>4.000000</td>\n",
       "      <td>41.783296</td>\n",
       "      <td>-87.722238</td>\n",
       "      <td>2017.000000</td>\n",
       "      <td>8.000000</td>\n",
       "      <td>2017.000000</td>\n",
       "      <td>4.000000</td>\n",
       "      <td>8.00000</td>\n",
       "      <td>11.000000</td>\n",
       "    </tr>\n",
       "    <tr>\n",
       "      <td>50%</td>\n",
       "      <td>230000.000000</td>\n",
       "      <td>30.000000</td>\n",
       "      <td>1.000000</td>\n",
       "      <td>1.000000</td>\n",
       "      <td>1.000000</td>\n",
       "      <td>1.000000</td>\n",
       "      <td>3.000000</td>\n",
       "      <td>2.000000</td>\n",
       "      <td>1.000000</td>\n",
       "      <td>1.000000</td>\n",
       "      <td>...</td>\n",
       "      <td>4.000000</td>\n",
       "      <td>7.000000</td>\n",
       "      <td>41.876748</td>\n",
       "      <td>-87.673643</td>\n",
       "      <td>2018.000000</td>\n",
       "      <td>16.000000</td>\n",
       "      <td>2018.000000</td>\n",
       "      <td>7.000000</td>\n",
       "      <td>16.00000</td>\n",
       "      <td>15.000000</td>\n",
       "    </tr>\n",
       "    <tr>\n",
       "      <td>75%</td>\n",
       "      <td>343469.750000</td>\n",
       "      <td>30.000000</td>\n",
       "      <td>2.000000</td>\n",
       "      <td>2.000000</td>\n",
       "      <td>1.000000</td>\n",
       "      <td>2.000000</td>\n",
       "      <td>4.000000</td>\n",
       "      <td>3.000000</td>\n",
       "      <td>1.000000</td>\n",
       "      <td>1.000000</td>\n",
       "      <td>...</td>\n",
       "      <td>6.000000</td>\n",
       "      <td>10.000000</td>\n",
       "      <td>41.925294</td>\n",
       "      <td>-87.633436</td>\n",
       "      <td>2019.000000</td>\n",
       "      <td>23.000000</td>\n",
       "      <td>2019.000000</td>\n",
       "      <td>10.000000</td>\n",
       "      <td>23.00000</td>\n",
       "      <td>18.000000</td>\n",
       "    </tr>\n",
       "    <tr>\n",
       "      <td>max</td>\n",
       "      <td>460917.000000</td>\n",
       "      <td>65.000000</td>\n",
       "      <td>16.000000</td>\n",
       "      <td>7.000000</td>\n",
       "      <td>11.000000</td>\n",
       "      <td>6.000000</td>\n",
       "      <td>17.000000</td>\n",
       "      <td>19.000000</td>\n",
       "      <td>6.000000</td>\n",
       "      <td>7.000000</td>\n",
       "      <td>...</td>\n",
       "      <td>7.000000</td>\n",
       "      <td>12.000000</td>\n",
       "      <td>42.022551</td>\n",
       "      <td>-87.524587</td>\n",
       "      <td>2020.000000</td>\n",
       "      <td>31.000000</td>\n",
       "      <td>2020.000000</td>\n",
       "      <td>12.000000</td>\n",
       "      <td>31.00000</td>\n",
       "      <td>23.000000</td>\n",
       "    </tr>\n",
       "  </tbody>\n",
       "</table>\n",
       "<p>8 rows × 33 columns</p>\n",
       "</div>"
      ],
      "text/plain": [
       "                  id  posted_speed_limit  traffic_control_device  \\\n",
       "count    9622.000000         9622.000000             9622.000000   \n",
       "mean   230150.067554           28.224693                1.678030   \n",
       "std    132584.219207            6.421920                1.113763   \n",
       "min        43.000000            0.000000                1.000000   \n",
       "25%    115964.250000           30.000000                1.000000   \n",
       "50%    230000.000000           30.000000                1.000000   \n",
       "75%    343469.750000           30.000000                2.000000   \n",
       "max    460917.000000           65.000000               16.000000   \n",
       "\n",
       "       device_condition  weather_condition  lighting_condition  \\\n",
       "count       9622.000000        9622.000000         9622.000000   \n",
       "mean           1.531802           1.418312            1.619933   \n",
       "std            0.755520           1.017429            1.120766   \n",
       "min            1.000000           1.000000            1.000000   \n",
       "25%            1.000000           1.000000            1.000000   \n",
       "50%            1.000000           1.000000            1.000000   \n",
       "75%            2.000000           1.000000            2.000000   \n",
       "max            7.000000          11.000000            6.000000   \n",
       "\n",
       "       first_crash_type  trafficway_type    alignment  roadway_surface_cond  \\\n",
       "count       9622.000000      9622.000000  9622.000000           9622.000000   \n",
       "mean           3.275930         2.643941     1.044066              1.400021   \n",
       "std            2.355135         2.331175     0.318719              0.844981   \n",
       "min            1.000000         1.000000     1.000000              1.000000   \n",
       "25%            2.000000         1.000000     1.000000              1.000000   \n",
       "50%            3.000000         2.000000     1.000000              1.000000   \n",
       "75%            4.000000         3.000000     1.000000              1.000000   \n",
       "max           17.000000        19.000000     6.000000              7.000000   \n",
       "\n",
       "       ...  crash_day_of_week  crash_month     latitude    longitude  \\\n",
       "count  ...        9622.000000  9622.000000  9622.000000  9622.000000   \n",
       "mean   ...           4.135003     6.858553    41.858899   -87.679049   \n",
       "std    ...           1.984652     3.396142     0.086589     0.059436   \n",
       "min    ...           1.000000     1.000000    41.644694   -87.914197   \n",
       "25%    ...           2.000000     4.000000    41.783296   -87.722238   \n",
       "50%    ...           4.000000     7.000000    41.876748   -87.673643   \n",
       "75%    ...           6.000000    10.000000    41.925294   -87.633436   \n",
       "max    ...           7.000000    12.000000    42.022551   -87.524587   \n",
       "\n",
       "        crash_year    crash_day  year_notified  month_notified  day_notified  \\\n",
       "count  9622.000000  9622.000000    9622.000000     9622.000000    9622.00000   \n",
       "mean   2018.170755    15.727292    2018.172833        6.856059      15.67117   \n",
       "std       1.320662     8.806247       1.320313        3.396282       8.79592   \n",
       "min    2015.000000     1.000000    2015.000000        1.000000       1.00000   \n",
       "25%    2017.000000     8.000000    2017.000000        4.000000       8.00000   \n",
       "50%    2018.000000    16.000000    2018.000000        7.000000      16.00000   \n",
       "75%    2019.000000    23.000000    2019.000000       10.000000      23.00000   \n",
       "max    2020.000000    31.000000    2020.000000       12.000000      31.00000   \n",
       "\n",
       "       hour_notified  \n",
       "count    9622.000000  \n",
       "mean       13.861152  \n",
       "std         5.149955  \n",
       "min         0.000000  \n",
       "25%        11.000000  \n",
       "50%        15.000000  \n",
       "75%        18.000000  \n",
       "max        23.000000  \n",
       "\n",
       "[8 rows x 33 columns]"
      ]
     },
     "metadata": {},
     "output_type": "display_data"
    }
   ],
   "source": [
    "# Explore the dataset\n",
    "display(df.describe()) "
   ]
  },
  {
   "cell_type": "markdown",
   "metadata": {},
   "source": [
    "#### Preprocessing"
   ]
  },
  {
   "cell_type": "code",
   "execution_count": 4,
   "metadata": {
    "ExecuteTime": {
     "end_time": "2021-01-13T20:28:32.469512Z",
     "start_time": "2021-01-13T20:28:32.426535Z"
    }
   },
   "outputs": [
    {
     "data": {
      "text/html": [
       "<div>\n",
       "<style scoped>\n",
       "    .dataframe tbody tr th:only-of-type {\n",
       "        vertical-align: middle;\n",
       "    }\n",
       "\n",
       "    .dataframe tbody tr th {\n",
       "        vertical-align: top;\n",
       "    }\n",
       "\n",
       "    .dataframe thead th {\n",
       "        text-align: right;\n",
       "    }\n",
       "</style>\n",
       "<table border=\"1\" class=\"dataframe\">\n",
       "  <thead>\n",
       "    <tr style=\"text-align: right;\">\n",
       "      <th></th>\n",
       "      <th>id</th>\n",
       "      <th>posted_speed_limit</th>\n",
       "      <th>traffic_control_device</th>\n",
       "      <th>device_condition</th>\n",
       "      <th>weather_condition</th>\n",
       "      <th>lighting_condition</th>\n",
       "      <th>first_crash_type</th>\n",
       "      <th>trafficway_type</th>\n",
       "      <th>alignment</th>\n",
       "      <th>roadway_surface_cond</th>\n",
       "      <th>...</th>\n",
       "      <th>crash_day_of_week</th>\n",
       "      <th>crash_month</th>\n",
       "      <th>latitude</th>\n",
       "      <th>longitude</th>\n",
       "      <th>crash_year</th>\n",
       "      <th>crash_day</th>\n",
       "      <th>year_notified</th>\n",
       "      <th>month_notified</th>\n",
       "      <th>day_notified</th>\n",
       "      <th>hour_notified</th>\n",
       "    </tr>\n",
       "  </thead>\n",
       "  <tbody>\n",
       "    <tr>\n",
       "      <td>0</td>\n",
       "      <td>280396</td>\n",
       "      <td>30</td>\n",
       "      <td>3</td>\n",
       "      <td>2</td>\n",
       "      <td>2</td>\n",
       "      <td>3</td>\n",
       "      <td>9</td>\n",
       "      <td>3</td>\n",
       "      <td>1</td>\n",
       "      <td>2</td>\n",
       "      <td>...</td>\n",
       "      <td>3</td>\n",
       "      <td>11</td>\n",
       "      <td>41.940958</td>\n",
       "      <td>-87.649185</td>\n",
       "      <td>2019</td>\n",
       "      <td>26</td>\n",
       "      <td>2019</td>\n",
       "      <td>11</td>\n",
       "      <td>26</td>\n",
       "      <td>18</td>\n",
       "    </tr>\n",
       "    <tr>\n",
       "      <td>1</td>\n",
       "      <td>406594</td>\n",
       "      <td>30</td>\n",
       "      <td>1</td>\n",
       "      <td>1</td>\n",
       "      <td>2</td>\n",
       "      <td>1</td>\n",
       "      <td>11</td>\n",
       "      <td>5</td>\n",
       "      <td>1</td>\n",
       "      <td>2</td>\n",
       "      <td>...</td>\n",
       "      <td>1</td>\n",
       "      <td>10</td>\n",
       "      <td>41.851498</td>\n",
       "      <td>-87.735394</td>\n",
       "      <td>2018</td>\n",
       "      <td>28</td>\n",
       "      <td>2018</td>\n",
       "      <td>10</td>\n",
       "      <td>28</td>\n",
       "      <td>16</td>\n",
       "    </tr>\n",
       "    <tr>\n",
       "      <td>2</td>\n",
       "      <td>384302</td>\n",
       "      <td>25</td>\n",
       "      <td>1</td>\n",
       "      <td>1</td>\n",
       "      <td>1</td>\n",
       "      <td>1</td>\n",
       "      <td>3</td>\n",
       "      <td>2</td>\n",
       "      <td>1</td>\n",
       "      <td>1</td>\n",
       "      <td>...</td>\n",
       "      <td>1</td>\n",
       "      <td>8</td>\n",
       "      <td>41.793598</td>\n",
       "      <td>-87.693942</td>\n",
       "      <td>2017</td>\n",
       "      <td>13</td>\n",
       "      <td>2017</td>\n",
       "      <td>8</td>\n",
       "      <td>13</td>\n",
       "      <td>18</td>\n",
       "    </tr>\n",
       "    <tr>\n",
       "      <td>3</td>\n",
       "      <td>148689</td>\n",
       "      <td>30</td>\n",
       "      <td>1</td>\n",
       "      <td>1</td>\n",
       "      <td>1</td>\n",
       "      <td>1</td>\n",
       "      <td>5</td>\n",
       "      <td>4</td>\n",
       "      <td>1</td>\n",
       "      <td>1</td>\n",
       "      <td>...</td>\n",
       "      <td>6</td>\n",
       "      <td>3</td>\n",
       "      <td>41.851989</td>\n",
       "      <td>-87.685492</td>\n",
       "      <td>2017</td>\n",
       "      <td>24</td>\n",
       "      <td>2017</td>\n",
       "      <td>3</td>\n",
       "      <td>24</td>\n",
       "      <td>16</td>\n",
       "    </tr>\n",
       "    <tr>\n",
       "      <td>4</td>\n",
       "      <td>154004</td>\n",
       "      <td>30</td>\n",
       "      <td>2</td>\n",
       "      <td>2</td>\n",
       "      <td>1</td>\n",
       "      <td>1</td>\n",
       "      <td>4</td>\n",
       "      <td>2</td>\n",
       "      <td>1</td>\n",
       "      <td>1</td>\n",
       "      <td>...</td>\n",
       "      <td>5</td>\n",
       "      <td>1</td>\n",
       "      <td>41.802023</td>\n",
       "      <td>-87.616272</td>\n",
       "      <td>2020</td>\n",
       "      <td>2</td>\n",
       "      <td>2020</td>\n",
       "      <td>1</td>\n",
       "      <td>2</td>\n",
       "      <td>13</td>\n",
       "    </tr>\n",
       "  </tbody>\n",
       "</table>\n",
       "<p>5 rows × 32 columns</p>\n",
       "</div>"
      ],
      "text/plain": [
       "       id  posted_speed_limit  traffic_control_device  device_condition  \\\n",
       "0  280396                  30                       3                 2   \n",
       "1  406594                  30                       1                 1   \n",
       "2  384302                  25                       1                 1   \n",
       "3  148689                  30                       1                 1   \n",
       "4  154004                  30                       2                 2   \n",
       "\n",
       "   weather_condition  lighting_condition  first_crash_type  trafficway_type  \\\n",
       "0                  2                   3                 9                3   \n",
       "1                  2                   1                11                5   \n",
       "2                  1                   1                 3                2   \n",
       "3                  1                   1                 5                4   \n",
       "4                  1                   1                 4                2   \n",
       "\n",
       "   alignment  roadway_surface_cond  ...  crash_day_of_week  crash_month  \\\n",
       "0          1                     2  ...                  3           11   \n",
       "1          1                     2  ...                  1           10   \n",
       "2          1                     1  ...                  1            8   \n",
       "3          1                     1  ...                  6            3   \n",
       "4          1                     1  ...                  5            1   \n",
       "\n",
       "    latitude  longitude  crash_year  crash_day  year_notified  month_notified  \\\n",
       "0  41.940958 -87.649185        2019         26           2019              11   \n",
       "1  41.851498 -87.735394        2018         28           2018              10   \n",
       "2  41.793598 -87.693942        2017         13           2017               8   \n",
       "3  41.851989 -87.685492        2017         24           2017               3   \n",
       "4  41.802023 -87.616272        2020          2           2020               1   \n",
       "\n",
       "   day_notified  hour_notified  \n",
       "0            26             18  \n",
       "1            28             16  \n",
       "2            13             18  \n",
       "3            24             16  \n",
       "4             2             13  \n",
       "\n",
       "[5 rows x 32 columns]"
      ]
     },
     "execution_count": 4,
     "metadata": {},
     "output_type": "execute_result"
    }
   ],
   "source": [
    "y = df['damage']\n",
    "X = df.drop('damage', axis=1)\n",
    "X.head()"
   ]
  },
  {
   "cell_type": "markdown",
   "metadata": {},
   "source": [
    "#### Training, testing, and cross-validation"
   ]
  },
  {
   "cell_type": "code",
   "execution_count": 5,
   "metadata": {
    "ExecuteTime": {
     "end_time": "2021-01-13T20:28:32.561012Z",
     "start_time": "2021-01-13T20:28:32.472508Z"
    }
   },
   "outputs": [],
   "source": [
    "# Split the data into training and test sets\n",
    "X_train, X_test, y_train, y_test = train_test_split(X, y, random_state=42)"
   ]
  },
  {
   "cell_type": "markdown",
   "metadata": {},
   "source": [
    "#### Create a baseline model: Decision Trees"
   ]
  },
  {
   "cell_type": "code",
   "execution_count": 6,
   "metadata": {
    "ExecuteTime": {
     "end_time": "2021-01-13T20:28:32.876552Z",
     "start_time": "2021-01-13T20:28:32.563014Z"
    }
   },
   "outputs": [
    {
     "name": "stdout",
     "output_type": "stream",
     "text": [
      "Mean Cross Validation Score: 56.36%\n"
     ]
    }
   ],
   "source": [
    "dt_clf = DecisionTreeClassifier()\n",
    "\n",
    "dt_cv_score = cross_val_score(dt_clf, X_train, y_train, cv=3)\n",
    "mean_dt_cv_score = np.mean(dt_cv_score)\n",
    "print(f\"Mean Cross Validation Score: {mean_dt_cv_score :.2%}\")"
   ]
  },
  {
   "cell_type": "markdown",
   "metadata": {},
   "source": [
    "#### The model has Mean Cross Validation Score: 56.17% , but still significantly better than we would expect from random guessing."
   ]
  },
  {
   "cell_type": "markdown",
   "metadata": {},
   "source": [
    "### Grid search: Decision trees"
   ]
  },
  {
   "cell_type": "code",
   "execution_count": 7,
   "metadata": {
    "ExecuteTime": {
     "end_time": "2021-01-13T20:28:32.892562Z",
     "start_time": "2021-01-13T20:28:32.879547Z"
    }
   },
   "outputs": [],
   "source": [
    "dt_param_grid = {\n",
    "    'criterion': ['gini', 'entropy'],\n",
    "    'max_depth': [None, 2, 3, 4, 5, 6],\n",
    "    'min_samples_split': [2, 5, 10],\n",
    "    'min_samples_leaf': [1, 2, 3, 4, 5, 6]\n",
    "}"
   ]
  },
  {
   "cell_type": "markdown",
   "metadata": {},
   "source": [
    "#### Number of permutation "
   ]
  },
  {
   "cell_type": "code",
   "execution_count": 8,
   "metadata": {
    "ExecuteTime": {
     "end_time": "2021-01-13T20:28:32.955626Z",
     "start_time": "2021-01-13T20:28:32.895542Z"
    }
   },
   "outputs": [
    {
     "name": "stdout",
     "output_type": "stream",
     "text": [
      "Grid Search will have to search through 648 different permutations.\n"
     ]
    }
   ],
   "source": [
    "num_decision_trees = 3 * 2 * 6 * 3 * 6\n",
    "print(f\"Grid Search will have to search through {num_decision_trees} different permutations.\")"
   ]
  },
  {
   "cell_type": "markdown",
   "metadata": {},
   "source": [
    "#### Instantiate GridSearchCV & fit the data"
   ]
  },
  {
   "cell_type": "code",
   "execution_count": 9,
   "metadata": {
    "ExecuteTime": {
     "end_time": "2021-01-13T20:28:59.878746Z",
     "start_time": "2021-01-13T20:28:32.958570Z"
    }
   },
   "outputs": [
    {
     "data": {
      "text/plain": [
       "GridSearchCV(cv=3, error_score='raise-deprecating',\n",
       "             estimator=DecisionTreeClassifier(class_weight=None,\n",
       "                                              criterion='gini', max_depth=None,\n",
       "                                              max_features=None,\n",
       "                                              max_leaf_nodes=None,\n",
       "                                              min_impurity_decrease=0.0,\n",
       "                                              min_impurity_split=None,\n",
       "                                              min_samples_leaf=1,\n",
       "                                              min_samples_split=2,\n",
       "                                              min_weight_fraction_leaf=0.0,\n",
       "                                              presort=False, random_state=None,\n",
       "                                              splitter='best'),\n",
       "             iid='warn', n_jobs=None,\n",
       "             param_grid={'criterion': ['gini', 'entropy'],\n",
       "                         'max_depth': [None, 2, 3, 4, 5, 6],\n",
       "                         'min_samples_leaf': [1, 2, 3, 4, 5, 6],\n",
       "                         'min_samples_split': [2, 5, 10]},\n",
       "             pre_dispatch='2*n_jobs', refit=True, return_train_score=True,\n",
       "             scoring=None, verbose=0)"
      ]
     },
     "execution_count": 9,
     "metadata": {},
     "output_type": "execute_result"
    }
   ],
   "source": [
    "# Instantiate GridSearchCV\n",
    "dt_grid_search = GridSearchCV(dt_clf, dt_param_grid, cv=3, return_train_score=True)\n",
    "\n",
    "# Fit to the data\n",
    "dt_grid_search.fit(X_train, y_train)"
   ]
  },
  {
   "cell_type": "markdown",
   "metadata": {},
   "source": [
    "### Checking the best parameter"
   ]
  },
  {
   "cell_type": "code",
   "execution_count": 10,
   "metadata": {
    "ExecuteTime": {
     "end_time": "2021-01-13T20:28:59.909726Z",
     "start_time": "2021-01-13T20:28:59.881743Z"
    }
   },
   "outputs": [
    {
     "name": "stdout",
     "output_type": "stream",
     "text": [
      "Mean Training Score: 66.45%\n",
      "Mean Test Score: 61.93%\n",
      "Best Parameter Combination Found During Grid Search:\n"
     ]
    },
    {
     "data": {
      "text/plain": [
       "{'criterion': 'entropy',\n",
       " 'max_depth': 4,\n",
       " 'min_samples_leaf': 1,\n",
       " 'min_samples_split': 2}"
      ]
     },
     "execution_count": 10,
     "metadata": {},
     "output_type": "execute_result"
    }
   ],
   "source": [
    "# Mean training score\n",
    "dt_gs_training_score = np.mean(dt_grid_search.cv_results_['mean_train_score'])\n",
    "\n",
    "# Mean test score\n",
    "dt_gs_testing_score = dt_grid_search.score(X_test, y_test)\n",
    "\n",
    "print(f\"Mean Training Score: {dt_gs_training_score :.2%}\")\n",
    "print(f\"Mean Test Score: {dt_gs_testing_score :.2%}\")\n",
    "print(\"Best Parameter Combination Found During Grid Search:\")\n",
    "dt_grid_search.best_params_"
   ]
  },
  {
   "cell_type": "code",
   "execution_count": 11,
   "metadata": {
    "ExecuteTime": {
     "end_time": "2021-01-13T20:28:59.987735Z",
     "start_time": "2021-01-13T20:28:59.913725Z"
    }
   },
   "outputs": [
    {
     "name": "stdout",
     "output_type": "stream",
     "text": [
      "Mean Cross Validation Score: 56.36%\n"
     ]
    }
   ],
   "source": [
    "mean_dt_cv_score = np.mean(dt_cv_score)\n",
    "print(f\"Mean Cross Validation Score: {mean_dt_cv_score :.2%}\")"
   ]
  },
  {
   "cell_type": "code",
   "execution_count": null,
   "metadata": {},
   "outputs": [],
   "source": []
  },
  {
   "cell_type": "markdown",
   "metadata": {},
   "source": [
    "### Model: Random forests"
   ]
  },
  {
   "cell_type": "code",
   "execution_count": 12,
   "metadata": {
    "ExecuteTime": {
     "end_time": "2021-01-13T20:29:00.449452Z",
     "start_time": "2021-01-13T20:28:59.990714Z"
    }
   },
   "outputs": [
    {
     "name": "stdout",
     "output_type": "stream",
     "text": [
      "Mean Cross Validation Score for Random Forest Classifier: 59.26%\n"
     ]
    }
   ],
   "source": [
    "import warnings \n",
    "warnings.filterwarnings(\"ignore\")\n",
    "rf_clf = RandomForestClassifier()\n",
    "mean_rf_cv_score = np.mean(cross_val_score(rf_clf, X_train, y_train, cv=3))\n",
    "\n",
    "print(f\"Mean Cross Validation Score for Random Forest Classifier: {mean_rf_cv_score :.2%}\") "
   ]
  },
  {
   "cell_type": "code",
   "execution_count": 13,
   "metadata": {
    "ExecuteTime": {
     "end_time": "2021-01-13T20:29:00.465463Z",
     "start_time": "2021-01-13T20:29:00.452449Z"
    }
   },
   "outputs": [],
   "source": [
    "rf_param_grid = {\n",
    "    'n_estimators': [10, 30, 100],\n",
    "    'criterion': ['gini', 'entropy'],\n",
    "    'max_depth': [None, 2, 6, 10],\n",
    "    'min_samples_split': [5, 10],\n",
    "    'min_samples_leaf': [3, 6]\n",
    "} "
   ]
  },
  {
   "cell_type": "code",
   "execution_count": 14,
   "metadata": {
    "ExecuteTime": {
     "end_time": "2021-01-13T20:30:36.096045Z",
     "start_time": "2021-01-13T20:29:00.468442Z"
    }
   },
   "outputs": [
    {
     "name": "stdout",
     "output_type": "stream",
     "text": [
      "Training Accuracy: 61.71%\n",
      "\n",
      "Optimal Parameters: {'criterion': 'entropy', 'max_depth': None, 'min_samples_leaf': 3, 'min_samples_split': 10, 'n_estimators': 100}\n"
     ]
    }
   ],
   "source": [
    "rf_grid_search = GridSearchCV(rf_clf, rf_param_grid, cv=3)\n",
    "rf_grid_search.fit(X_train, y_train)\n",
    "\n",
    "print(f\"Training Accuracy: {rf_grid_search.best_score_ :.2%}\")\n",
    "print(\"\")\n",
    "print(f\"Optimal Parameters: {rf_grid_search.best_params_}\") "
   ]
  },
  {
   "cell_type": "markdown",
   "metadata": {},
   "source": [
    "#### Comparison"
   ]
  },
  {
   "cell_type": "code",
   "execution_count": 15,
   "metadata": {
    "ExecuteTime": {
     "end_time": "2021-01-13T20:30:36.189988Z",
     "start_time": "2021-01-13T20:30:36.099043Z"
    }
   },
   "outputs": [
    {
     "name": "stdout",
     "output_type": "stream",
     "text": [
      "Decision tree grid search:  0.6192851205320034\n",
      "Random forest grid search:  0.6296758104738155\n"
     ]
    }
   ],
   "source": [
    "dt_score = dt_grid_search.score(X_test, y_test)\n",
    "rf_score = rf_grid_search.score(X_test, y_test)\n",
    "\n",
    "print('Decision tree grid search: ', dt_score)\n",
    "print('Random forest grid search: ', rf_score)"
   ]
  },
  {
   "cell_type": "markdown",
   "metadata": {},
   "source": [
    "### Confusion Matrix & Classification Report \n",
    "* For Random forest & Random Forest GridSearch"
   ]
  },
  {
   "cell_type": "markdown",
   "metadata": {},
   "source": [
    "#### Random forest Report"
   ]
  },
  {
   "cell_type": "code",
   "execution_count": 16,
   "metadata": {
    "ExecuteTime": {
     "end_time": "2021-01-13T20:30:36.381938Z",
     "start_time": "2021-01-13T20:30:36.192988Z"
    }
   },
   "outputs": [
    {
     "name": "stdout",
     "output_type": "stream",
     "text": [
      "confussion matrix\n",
      "[[ 386  686]\n",
      " [ 260 1074]]\n",
      "\n",
      "\n",
      "Accuracy of Random Forest: 60.68162926018288 \n",
      "\n",
      "              precision    recall  f1-score   support\n",
      "\n",
      "           0       0.60      0.36      0.45      1072\n",
      "           1       0.61      0.81      0.69      1334\n",
      "\n",
      "    accuracy                           0.61      2406\n",
      "   macro avg       0.60      0.58      0.57      2406\n",
      "weighted avg       0.60      0.61      0.59      2406\n",
      "\n"
     ]
    }
   ],
   "source": [
    "from sklearn.metrics import confusion_matrix,accuracy_score,roc_curve,classification_report\n",
    "rf = RandomForestClassifier(n_estimators=20, random_state=12,max_depth=5)\n",
    "rf.fit(X_train,y_train)\n",
    "rf_predicted = rf.predict(X_test)\n",
    "rf_conf_matrix = confusion_matrix(y_test, rf_predicted)\n",
    "rf_acc_score = accuracy_score(y_test, rf_predicted)\n",
    "print(\"confussion matrix\")\n",
    "print(rf_conf_matrix)\n",
    "print(\"\\n\")\n",
    "print(\"Accuracy of Random Forest:\",rf_acc_score*100,'\\n')\n",
    "print(classification_report(y_test,rf_predicted))"
   ]
  },
  {
   "cell_type": "markdown",
   "metadata": {},
   "source": [
    "#### Random Forest GridSearch Report"
   ]
  },
  {
   "cell_type": "code",
   "execution_count": 18,
   "metadata": {
    "ExecuteTime": {
     "end_time": "2021-01-13T20:33:50.090473Z",
     "start_time": "2021-01-13T20:33:49.976981Z"
    }
   },
   "outputs": [
    {
     "name": "stdout",
     "output_type": "stream",
     "text": [
      "confussion matrix\n",
      "[[542 530]\n",
      " [361 973]]\n",
      "\n",
      "\n",
      "Accuracy of Random Forest GridSearch: 62.96758104738155 \n",
      "\n",
      "              precision    recall  f1-score   support\n",
      "\n",
      "           0       0.60      0.51      0.55      1072\n",
      "           1       0.65      0.73      0.69      1334\n",
      "\n",
      "    accuracy                           0.63      2406\n",
      "   macro avg       0.62      0.62      0.62      2406\n",
      "weighted avg       0.63      0.63      0.62      2406\n",
      "\n"
     ]
    }
   ],
   "source": [
    "rf_grid_search_predicted = rf_grid_search.predict(X_test)\n",
    "rf_grid_search_conf_matrix = confusion_matrix(y_test, rf_grid_search_predicted)\n",
    "rf_grid_search_acc_score = accuracy_score(y_test, rf_grid_search_predicted)\n",
    "print(\"confussion matrix\")\n",
    "print(rf_grid_search_conf_matrix)\n",
    "print(\"\\n\")\n",
    "print(\"Accuracy of Random Forest GridSearch:\",rf_grid_search_acc_score*100,'\\n')\n",
    "print(classification_report(y_test,rf_grid_search_predicted))"
   ]
  },
  {
   "cell_type": "code",
   "execution_count": null,
   "metadata": {},
   "outputs": [],
   "source": []
  }
 ],
 "metadata": {
  "kernelspec": {
   "display_name": "Python 3",
   "language": "python",
   "name": "python3"
  },
  "language_info": {
   "codemirror_mode": {
    "name": "ipython",
    "version": 3
   },
   "file_extension": ".py",
   "mimetype": "text/x-python",
   "name": "python",
   "nbconvert_exporter": "python",
   "pygments_lexer": "ipython3",
   "version": "3.6.9"
  },
  "toc": {
   "base_numbering": 1,
   "nav_menu": {},
   "number_sections": false,
   "sideBar": true,
   "skip_h1_title": false,
   "title_cell": "Table of Contents",
   "title_sidebar": "Contents",
   "toc_cell": false,
   "toc_position": {},
   "toc_section_display": true,
   "toc_window_display": true
  },
  "varInspector": {
   "cols": {
    "lenName": 16,
    "lenType": 16,
    "lenVar": 40
   },
   "kernels_config": {
    "python": {
     "delete_cmd_postfix": "",
     "delete_cmd_prefix": "del ",
     "library": "var_list.py",
     "varRefreshCmd": "print(var_dic_list())"
    },
    "r": {
     "delete_cmd_postfix": ") ",
     "delete_cmd_prefix": "rm(",
     "library": "var_list.r",
     "varRefreshCmd": "cat(var_dic_list()) "
    }
   },
   "types_to_exclude": [
    "module",
    "function",
    "builtin_function_or_method",
    "instance",
    "_Feature"
   ],
   "window_display": false
  }
 },
 "nbformat": 4,
 "nbformat_minor": 2
}
